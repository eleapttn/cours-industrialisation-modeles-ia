{
 "cells": [
  {
   "cell_type": "markdown",
   "id": "4c45302e-4cfe-4f7a-b953-68ce86e298f2",
   "metadata": {},
   "source": [
    "## Exercice 3 - Création d'un chatbot\n",
    "\n",
    "L'objectif de ce TP est de développer un chatbot simple en utilisant des LLMs pré-déployés sur [https://endpoints.ai.cloud.ovh.net/](https://endpoints.ai.cloud.ovh.net/) et la bibliothèque Streamlit.\n",
    "\n",
    "1. Installation des dépendances\n",
    "2. Création du code Python\n",
    "3. Lancement de l'interface du chatbot avec Streamlit\n",
    "\n",
    "### 1- Installation des dépendances"
   ]
  },
  {
   "cell_type": "code",
   "execution_count": null,
   "id": "4a5b859e-9da0-4a2e-b8f5-6e2c7489ade1",
   "metadata": {},
   "outputs": [],
   "source": [
    "pip install openai streamlit"
   ]
  },
  {
   "cell_type": "markdown",
   "id": "6fb8e1d5-e4a3-4643-bab1-2d5fcbb254e2",
   "metadata": {},
   "source": [
    "### 2- Création du code Python\n",
    "\n",
    "- chatbot.py"
   ]
  },
  {
   "cell_type": "raw",
   "id": "fe7b02f1-7632-476b-863f-d2437b0e52ec",
   "metadata": {},
   "source": [
    "from openai import OpenAI\n",
    "import streamlit as st\n",
    "\n",
    "# access the environment variables\n",
    "ai_endpoint_model = \"Mixtral-8x7B-Instruct-v0.1\"\n",
    "ai_endpoint_url = \"https://mixtral-8x7b-instruct-v01.endpoints.kepler.ai.cloud.ovh.net/api/openai_compat/v1\"\n",
    "\n",
    "ai_endpoint_token = \"ADD YOUR TOKEN\"\n",
    "\n",
    "# streamlit interface\n",
    "with st.container():\n",
    "    st.title(\"💬 Assistant Chatbot\")\n",
    "\n",
    "messages_container = st.container()\n",
    "\n",
    "if \"messages\" not in st.session_state:\n",
    "    st.session_state[\"messages\"] = [{\"role\": \"system\", \n",
    "                                     \"content\": \"Welcome, I'm AVA an assistant!\", \n",
    "                                     \"avatar\": \"🤖\"}]\n",
    "\n",
    "# display previous messages\n",
    "with messages_container:\n",
    "    for msg in st.session_state.messages:\n",
    "        st.chat_message(msg[\"role\"], avatar=msg[\"avatar\"]).write(msg[\"content\"])\n",
    "\n",
    "# user input\n",
    "user_input = st.chat_input(\"Inter your message...\")\n",
    "if user_input:\n",
    "    client = OpenAI(\n",
    "                    base_url=ai_endpoint_url, \n",
    "                    api_key=ai_endpoint_token\n",
    "                   )\n",
    "    st.session_state.messages.append({\"role\": \"user\", \"content\": user_input, \"avatar\": \"👤\"})\n",
    "    \n",
    "    with messages_container:\n",
    "        st.chat_message(\"user\", avatar=\"👤\").write(user_input)\n",
    "    \n",
    "    response = client.chat.completions.create(\n",
    "        model=ai_endpoint_model, \n",
    "        messages=st.session_state.messages,\n",
    "        temperature=0,\n",
    "        max_tokens=1024,\n",
    "        \n",
    "    )\n",
    "    \n",
    "    msg = response.choices[0].message.content\n",
    "    st.session_state.messages.append({\"role\": \"system\", \"content\": msg, \"avatar\": \"🤖\"})\n",
    "    \n",
    "    with messages_container:\n",
    "        st.chat_message(\"system\", avatar=\"🤖\").write(msg)"
   ]
  },
  {
   "cell_type": "markdown",
   "id": "16c7e276-627f-4238-915e-dad34a2616dc",
   "metadata": {},
   "source": [
    "### 3- Lancement de l'interface du chatbot avec Streamlit"
   ]
  },
  {
   "cell_type": "code",
   "execution_count": 4,
   "id": "9068fa9a-bfb8-442c-a61d-98662a6e74d1",
   "metadata": {},
   "outputs": [
    {
     "name": "stdout",
     "output_type": "stream",
     "text": [
      "Accédez à la web app : https://71d943ab-bf2b-41fd-9e33-7e773451c199-8501.notebook.gra.ai.cloud.ovh.net\n"
     ]
    }
   ],
   "source": [
    "import os\n",
    "\n",
    "NOTEBOOK_ID = os.environ['NOTEBOOK_ID']\n",
    "NOTEBOOK_HOST = os.environ['NOTEBOOK_HOST']\n",
    "print(f'Accédez à la web app : https://{NOTEBOOK_ID}-8501.{NOTEBOOK_HOST}')"
   ]
  },
  {
   "cell_type": "code",
   "execution_count": 5,
   "id": "7653d422-7402-4f27-a146-491eb7f04544",
   "metadata": {},
   "outputs": [
    {
     "name": "stdout",
     "output_type": "stream",
     "text": [
      "\n",
      "Collecting usage statistics. To deactivate, set browser.gatherUsageStats to false.\n",
      "\u001b[0m\n",
      "\u001b[0m\n",
      "\u001b[34m\u001b[1m  You can now view your Streamlit app in your browser.\u001b[0m\n",
      "\u001b[0m\n",
      "\u001b[34m  Local URL: \u001b[0m\u001b[1mhttp://localhost:8501\u001b[0m\n",
      "\u001b[34m  Network URL: \u001b[0m\u001b[1mhttp://10.42.181.235:8501\u001b[0m\n",
      "\u001b[34m  External URL: \u001b[0m\u001b[1mhttp://51.210.125.55:8501\u001b[0m\n",
      "\u001b[0m\n"
     ]
    }
   ],
   "source": [
    "!streamlit run /workspace/cours-industrialisation-modeles-ia/chatbot.py"
   ]
  }
 ],
 "metadata": {
  "kernelspec": {
   "display_name": "Conda",
   "language": "python",
   "name": "python3"
  },
  "language_info": {
   "codemirror_mode": {
    "name": "ipython",
    "version": 3
   },
   "file_extension": ".py",
   "mimetype": "text/x-python",
   "name": "python",
   "nbconvert_exporter": "python",
   "pygments_lexer": "ipython3",
   "version": "3.11.4"
  }
 },
 "nbformat": 4,
 "nbformat_minor": 5
}
