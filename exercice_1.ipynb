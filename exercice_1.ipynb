{
 "cells": [
  {
   "cell_type": "markdown",
   "metadata": {},
   "source": [
    "## Exercice 1\n",
    "\n",
    "1 - Donnez les informations quant au.x GPU.s utilisé.s (nombre, type, mémoire dédiée)\n",
    "\n",
    "2 - Renseignez la version de Python utilisée\n",
    "\n",
    "3 - Chargez le dataset cats_vs_dogs avec TensorFlow\n",
    "\n",
    "4 - Séparez le dataset de la manière suivante :\n",
    "- 70 % - training set\n",
    "- 20% - validation set\n",
    "- 10% - test set\n",
    "\n",
    "5 - Implémentez un modèle de classification d'images avec Tensorflow\n",
    "\n",
    "6 - Entraînez le modèle en utilisant la puissance du GPU\n",
    "\n",
    "7 - Testez le modèle sur le dataset de test\n",
    "\n",
    "8 - Sauvegardez le modèle au format ONNX\n",
    "\n",
    "9 - Chargez-le pour effectuer une prédiction sur une image\n",
    "\n",
    "10 - Créez un fichier requirements.txt avec toutes les dépendances installées et leur version\n",
    "\n",
    "#### Install dependencies"
   ]
  },
  {
   "cell_type": "code",
   "execution_count": null,
   "metadata": {},
   "outputs": [],
   "source": [
    "pip install ..."
   ]
  },
  {
   "cell_type": "markdown",
   "metadata": {},
   "source": [
    "#### Import Python dependencies"
   ]
  },
  {
   "cell_type": "code",
   "execution_count": null,
   "metadata": {},
   "outputs": [],
   "source": [
    "import ..."
   ]
  },
  {
   "cell_type": "markdown",
   "metadata": {},
   "source": [
    "### 1. Informations sur le GPU et la version de Python"
   ]
  },
  {
   "cell_type": "code",
   "execution_count": null,
   "metadata": {},
   "outputs": [],
   "source": []
  },
  {
   "cell_type": "markdown",
   "metadata": {},
   "source": [
    "### 2. Chargement du dataset Cats vs Dogs depuis TensorFlow Datasets\n",
    "\n",
    "Accéder au dataset : https://www.tensorflow.org/datasets/catalog/cats_vs_dogs"
   ]
  },
  {
   "cell_type": "code",
   "execution_count": null,
   "metadata": {},
   "outputs": [],
   "source": []
  },
  {
   "cell_type": "markdown",
   "metadata": {},
   "source": [
    "### 3. Séparation en 70% entraînement, 20% validation, 10% test"
   ]
  },
  {
   "cell_type": "code",
   "execution_count": null,
   "metadata": {},
   "outputs": [],
   "source": []
  },
  {
   "cell_type": "markdown",
   "metadata": {},
   "source": [
    "### 4. Prétraitement des images"
   ]
  },
  {
   "cell_type": "code",
   "execution_count": null,
   "metadata": {},
   "outputs": [],
   "source": []
  },
  {
   "cell_type": "markdown",
   "metadata": {},
   "source": [
    "### 5. Implémentez un modèle de classification d'images avec Tensorflow"
   ]
  },
  {
   "cell_type": "code",
   "execution_count": null,
   "metadata": {},
   "outputs": [],
   "source": []
  },
  {
   "cell_type": "markdown",
   "metadata": {},
   "source": [
    "### 6. Entraînez le modèle en utilisant la puissance du GPU"
   ]
  },
  {
   "cell_type": "code",
   "execution_count": null,
   "metadata": {},
   "outputs": [],
   "source": []
  },
  {
   "cell_type": "markdown",
   "metadata": {},
   "source": [
    "### 7. Testez le modèle sur le dataset de test"
   ]
  },
  {
   "cell_type": "code",
   "execution_count": null,
   "metadata": {},
   "outputs": [],
   "source": []
  },
  {
   "cell_type": "markdown",
   "metadata": {},
   "source": [
    "### 8. Sauvegarde du modèle au format ONNX"
   ]
  },
  {
   "cell_type": "code",
   "execution_count": null,
   "metadata": {},
   "outputs": [],
   "source": []
  },
  {
   "cell_type": "markdown",
   "metadata": {},
   "source": [
    "### 9. Chargement du modèle ONNX et prédiction sur une image"
   ]
  },
  {
   "cell_type": "markdown",
   "metadata": {},
   "source": []
  },
  {
   "cell_type": "markdown",
   "metadata": {},
   "source": [
    "### 10 - Créez un fichier requirements.txt avec toutes les dépendances installées et leur version"
   ]
  },
  {
   "cell_type": "code",
   "execution_count": null,
   "metadata": {},
   "outputs": [],
   "source": []
  },
  {
   "cell_type": "markdown",
   "metadata": {},
   "source": []
  }
 ],
 "metadata": {
  "language_info": {
   "name": "python"
  }
 },
 "nbformat": 4,
 "nbformat_minor": 2
}
