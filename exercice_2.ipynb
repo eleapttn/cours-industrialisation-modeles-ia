{
 "cells": [
  {
   "cell_type": "markdown",
   "metadata": {},
   "source": [
    "## Exercice 2 - Comparaison de YOLOv11n et YOLOv11x avec Weights & Biases\n",
    "\n",
    "L'objectif de ce TP est d'entraîner et comparer deux variantes de YOLOv11 (YOLOv11n et YOLOv11x) sur le dataset **PlantDoc Dataset** pour la détection d'objets, en utilisant **Weights & Biases** (W&B) pour le suivi des expériences.\n",
    "\n",
    "1. Installation des dépendances\n",
    "2. Configuration de Weights & Biases\n",
    "3. Téléchargement et préparation du dataset\n",
    "4. Entraînement des modèles en utilisant la puissance du GPU\n",
    "5. Suivi des expériences avec W&B\n",
    "6. Inférence sur le dataset de test\n",
    "7. Analyse des Résultats\n",
    "\n",
    "### 1- Installation des dépendances\n",
    "\n",
    "- PyTorch\n",
    "- Ultralytics (pour pouvoir charger et utiliser YOLO)\n",
    "- Weights & Biases (wandb)"
   ]
  },
  {
   "cell_type": "code",
   "execution_count": null,
   "metadata": {},
   "outputs": [],
   "source": [
    "pip install roboflow ultralytics opencv-python matplotlib wandb"
   ]
  },
  {
   "cell_type": "code",
   "execution_count": null,
   "metadata": {},
   "outputs": [],
   "source": []
  },
  {
   "cell_type": "markdown",
   "metadata": {},
   "source": [
    "### 2 - Configuration de Weights & Biases\n",
    "\n",
    "- Accédez à Weights & Biases : https://wandb.ai/site\n",
    "- Générez une api_key depuis le site Wandb"
   ]
  },
  {
   "cell_type": "code",
   "execution_count": null,
   "metadata": {},
   "outputs": [],
   "source": []
  },
  {
   "cell_type": "markdown",
   "metadata": {},
   "source": [
    "### 3 - Téléchargement et préparation du dataset\n",
    "\n",
    "- Générez une `api_key` depuis le site Roboflow\n",
    "- Accédez au dataset : https://public.roboflow.com/object-detection/plantdoc/1"
   ]
  },
  {
   "cell_type": "code",
   "execution_count": null,
   "metadata": {},
   "outputs": [],
   "source": []
  },
  {
   "cell_type": "markdown",
   "metadata": {},
   "source": [
    "- Modifiez le fichier `data.yaml` en mettant à jour les chemins d'accès vers les données"
   ]
  },
  {
   "cell_type": "markdown",
   "metadata": {},
   "source": [
    "train: /workspace/cours-industrialisation-modeles-ia/PlantDoc-1/train/images\n",
    "val: /workspace/cours-industrialisation-modeles-ia/PlantDoc-1/test/images"
   ]
  },
  {
   "cell_type": "code",
   "execution_count": null,
   "metadata": {},
   "outputs": [],
   "source": []
  },
  {
   "cell_type": "markdown",
   "metadata": {},
   "source": [
    "### 4 - Entraînement des modèles\n",
    "\n",
    "Nous allons entraîner YOLO11n et YOLO11x en utilisant le framework Ultralytics:\n",
    "\n",
    "**4.1 - Entraînement de YOLO11n**"
   ]
  },
  {
   "cell_type": "code",
   "execution_count": null,
   "metadata": {},
   "outputs": [],
   "source": []
  },
  {
   "cell_type": "markdown",
   "metadata": {},
   "source": [
    "**4.2 - Entraînement de YOLO11x**"
   ]
  },
  {
   "cell_type": "code",
   "execution_count": null,
   "metadata": {},
   "outputs": [],
   "source": []
  },
  {
   "cell_type": "markdown",
   "metadata": {},
   "source": [
    "### 5 - Suivi des expériences avec W&B"
   ]
  },
  {
   "cell_type": "code",
   "execution_count": null,
   "metadata": {},
   "outputs": [],
   "source": []
  },
  {
   "cell_type": "markdown",
   "metadata": {},
   "source": [
    "### 6 - Inférence sur une nouvelle image"
   ]
  },
  {
   "cell_type": "code",
   "execution_count": null,
   "metadata": {},
   "outputs": [],
   "source": []
  },
  {
   "cell_type": "markdown",
   "metadata": {},
   "source": [
    "### 7 - Analyse des Résultats\n",
    "\n",
    "- Quel modèle est le plus précis ?\n",
    "- Quel modèle est le plus rapide ?\n",
    "- Quel modèle est le plus léger ?"
   ]
  },
  {
   "cell_type": "code",
   "execution_count": null,
   "metadata": {},
   "outputs": [],
   "source": []
  }
 ],
 "metadata": {
  "language_info": {
   "name": "python"
  }
 },
 "nbformat": 4,
 "nbformat_minor": 2
}
